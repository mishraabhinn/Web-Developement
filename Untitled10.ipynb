{
 "cells": [
  {
   "cell_type": "code",
   "execution_count": null,
   "metadata": {},
   "outputs": [
    {
     "name": "stdout",
     "output_type": "stream",
     "text": [
      "2\n",
      "insert\n",
      "0 23\n",
      "[23]\n",
      "insert\n"
     ]
    }
   ],
   "source": [
    "list=[]\n",
    "n=int(input())\n",
    "for i in range(n):\n",
    "    print(\"insert\")\n",
    "    i, value = map(int, input().split())\n",
    "    \n",
    "    list.insert(i,value)\n",
    "    print(list)\n",
    "x=int(input(\"enter the value to remove:\"))\n",
    "list.remove(x)\n",
    "print(list)\n",
    "y=int(input(\"Enter the value to append:\"))\n",
    "list.append(y)\n",
    "print(list)\n",
    "list.sort()\n",
    "print(list)\n",
    "list.pop()\n",
    "print(list)\n",
    "list.sort(reverse=True)\n",
    "print(list)\n"
   ]
  },
  {
   "cell_type": "code",
   "execution_count": 7,
   "metadata": {},
   "outputs": [
    {
     "ename": "SyntaxError",
     "evalue": "invalid syntax (<ipython-input-7-b3ad2523f8af>, line 13)",
     "output_type": "error",
     "traceback": [
      "\u001b[0;36m  File \u001b[0;32m\"<ipython-input-7-b3ad2523f8af>\"\u001b[0;36m, line \u001b[0;32m13\u001b[0m\n\u001b[0;31m    n=input()\u001b[0m\n\u001b[0m    ^\u001b[0m\n\u001b[0;31mSyntaxError\u001b[0m\u001b[0;31m:\u001b[0m invalid syntax\n"
     ]
    }
   ],
   "source": [
    "def average(array):\n",
    "    \n",
    "\n",
    "    # your code goes here\n",
    "    sum=0\n",
    "    for i in range(len(array)):\n",
    "\n",
    "\n",
    "        sum+=array[i]\n",
    "    avg=(sum)/(len(array)) \n",
    "    return(round(avg,3)  \n",
    "\n",
    "n=input()\n",
    "arr=list(map(int, input().split()))\n",
    "result = average(arr)\n",
    "print(result)"
   ]
  },
  {
   "cell_type": "code",
   "execution_count": 18,
   "metadata": {},
   "outputs": [
    {
     "name": "stdout",
     "output_type": "stream",
     "text": [
      "3 2\n",
      "1 5 3\n",
      "3 1\n",
      "5 7\n"
     ]
    },
    {
     "ename": "IndexError",
     "evalue": "list index out of range",
     "output_type": "error",
     "traceback": [
      "\u001b[0;31m---------------------------------------------------------------------------\u001b[0m",
      "\u001b[0;31mIndexError\u001b[0m                                Traceback (most recent call last)",
      "\u001b[0;32m<ipython-input-18-ea94f1a43ef4>\u001b[0m in \u001b[0;36m<module>\u001b[0;34m\u001b[0m\n\u001b[1;32m      8\u001b[0m \u001b[0msum2\u001b[0m\u001b[0;34m=\u001b[0m\u001b[0;36m0\u001b[0m\u001b[0;34m\u001b[0m\u001b[0;34m\u001b[0m\u001b[0m\n\u001b[1;32m      9\u001b[0m \u001b[0;32mfor\u001b[0m \u001b[0mi\u001b[0m \u001b[0;32min\u001b[0m \u001b[0mrange\u001b[0m\u001b[0;34m(\u001b[0m\u001b[0;36m3\u001b[0m\u001b[0;34m)\u001b[0m\u001b[0;34m:\u001b[0m\u001b[0;34m\u001b[0m\u001b[0;34m\u001b[0m\u001b[0m\n\u001b[0;32m---> 10\u001b[0;31m     \u001b[0;32mif\u001b[0m \u001b[0my\u001b[0m\u001b[0;34m[\u001b[0m\u001b[0mi\u001b[0m\u001b[0;34m]\u001b[0m \u001b[0;32min\u001b[0m \u001b[0mA\u001b[0m\u001b[0;34m:\u001b[0m\u001b[0;34m\u001b[0m\u001b[0;34m\u001b[0m\u001b[0m\n\u001b[0m\u001b[1;32m     11\u001b[0m         \u001b[0msum1\u001b[0m\u001b[0;34m+=\u001b[0m\u001b[0;36m1\u001b[0m\u001b[0;34m\u001b[0m\u001b[0;34m\u001b[0m\u001b[0m\n\u001b[1;32m     12\u001b[0m     \u001b[0;32melse\u001b[0m\u001b[0;34m:\u001b[0m\u001b[0;34m\u001b[0m\u001b[0;34m\u001b[0m\u001b[0m\n",
      "\u001b[0;31mIndexError\u001b[0m: list index out of range"
     ]
    }
   ],
   "source": [
    "# Enter your code here. Read input from STDIN. Print output to STDOUT\n",
    "\n",
    "y=input().split()\n",
    "arr=input().split()\n",
    "A=input().split()\n",
    "B=input().split()\n",
    "sum1=0\n",
    "sum2=0\n",
    "for i in range(3):\n",
    "    if y[i] in A:\n",
    "        sum1+=1\n",
    "    else:\n",
    "        sum2+=1\n",
    "hap=abs(sum1-sum2)\n",
    "print(hap)       \n",
    "\n"
   ]
  },
  {
   "cell_type": "code",
   "execution_count": null,
   "metadata": {},
   "outputs": [],
   "source": [
    "t=int(input())\n",
    "\n",
    "fun=[]\n",
    "zero=0\n",
    "for i in range(t):\n",
    "    result=[]\n",
    "    n=int(input())\n",
    "    a=input().split(\" \")\n",
    "    b=input().split(\" \")\n",
    "    for z in range(n):\n",
    "        k=(int(a[z])*20)-(int(b[z])*10)\n",
    "        if k>=0:\n",
    "            \n",
    "            result.append(k)\n",
    "        else:\n",
    "            result.append(zero)\n",
    "    result.sort(reverse=True)\n",
    "    fun.append(result[0])\n",
    "print(fun)"
   ]
  },
  {
   "cell_type": "markdown",
   "metadata": {},
   "source": []
  }
 ],
 "metadata": {
  "kernelspec": {
   "display_name": "Python 3",
   "language": "python",
   "name": "python3"
  },
  "language_info": {
   "codemirror_mode": {
    "name": "ipython",
    "version": 3
   },
   "file_extension": ".py",
   "mimetype": "text/x-python",
   "name": "python",
   "nbconvert_exporter": "python",
   "pygments_lexer": "ipython3",
   "version": "3.7.3"
  }
 },
 "nbformat": 4,
 "nbformat_minor": 2
}
